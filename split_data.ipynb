{
 "cells": [
  {
   "cell_type": "code",
   "execution_count": 1,
   "id": "b61bf10f",
   "metadata": {},
   "outputs": [],
   "source": [
    "# Lấy data từ drive\n",
    "IMG_SIZE = (850, 150)\n",
    "DATASET_PATH = \"C:/Users/ADMIN/Documents/data_line/data-line/data-line/data\"\n",
    "label_Path = \"C:/Users/ADMIN/Documents/data_line/data-line/data-line/label.txt\""
   ]
  },
  {
   "cell_type": "code",
   "execution_count": null,
   "id": "77ad4deb",
   "metadata": {},
   "outputs": [],
   "source": [
    "import pandas as pd\n",
    "from sklearn.model_selection import train_test_split\n",
    "from collections import Counter\n",
    "\n",
    "def split_dataset(label_file=label_Path, output_dir=DATASET_PATH, label_column='label', random_state=None):\n",
    "    # Nhập tỷ lệ từ người dùng\n",
    "    train_ratio = float(input(\"Nhập tỷ lệ tập train (0-1): \"))\n",
    "    test_ratio = float(input(\"Nhập tỷ lệ tập test (0-1): \"))\n",
    "    validation_ratio = float(input(\"Nhập tỷ lệ tập validation (0-1): \"))\n",
    "\n",
    "    # Đảm bảo tổng tỉ lệ bằng 1\n",
    "    assert abs(train_ratio + test_ratio + validation_ratio - 1.0) < 1e-6, \"Tổng tỉ lệ phải bằng 1\"\n",
    "\n",
    "    # Đọc file TXT theo dòng\n",
    "    data = []\n",
    "    with open(label_file, 'r', encoding='utf-8') as f:\n",
    "        for line in f:\n",
    "            parts = line.strip().split(' ', 1)  # Chỉ tách thành 2 phần: image_name và label\n",
    "            if len(parts) == 2:\n",
    "                data.append(parts)\n",
    "\n",
    "    # Chuyển thành DataFrame\n",
    "    df = pd.DataFrame(data, columns=['image_name', label_column])\n",
    "\n",
    "    # Kiểm tra số lượng mẫu theo từng nhãn\n",
    "    label_counts = Counter(df[label_column])\n",
    "    min_class_size = min(label_counts.values())\n",
    "    use_stratify = min_class_size >= 2  # Chỉ stratify nếu không có lớp nào có số lượng < 2\n",
    "\n",
    "    # Chia đầu tiên: train và temp (test + validation)\n",
    "    train_df, temp_df = train_test_split(df, train_size=train_ratio, stratify=df[label_column] if use_stratify else None, random_state=random_state)\n",
    "\n",
    "    # Tính tỉ lệ cho test trong temp_df\n",
    "    p = test_ratio / (test_ratio + validation_ratio)\n",
    "\n",
    "    # Chia temp_df thành validation và test\n",
    "    validation_df, test_df = train_test_split(temp_df, test_size=p, stratify=temp_df[label_column] if use_stratify else None, random_state=random_state)\n",
    "\n",
    "    # Hàm lưu file dưới dạng txt\n",
    "    def save_txt(df, filename):\n",
    "        with open(filename, 'w', encoding='utf-8') as f:\n",
    "            for _, row in df.iterrows():\n",
    "                f.write(f\"{row['image_name']} {row[label_column]}\\n\")\n",
    "\n",
    "    # Lưu vào các file txt\n",
    "    #train=save_txt(train_df, f\"C:/Users/Admin/Desktop/DuLieu/train.txt\")\n",
    "    #test=save_txt(test_df, f\"C:/Users/Admin/Desktop/DuLieu/test.txt\")\n",
    "    #validation=save_txt(validation_df, f\"C:/Users/Admin/Desktop/DuLieu/validation.txt\")\n",
    "\n",
    "    # Lưu data vào file drive\n",
    "    train=save_txt(train_df, f\"C:/Users/ADMIN/Documents/data_line/data-line/data-line/train.txt\")\n",
    "    test=save_txt(test_df, f\"C:/Users/ADMIN/Documents/data_line/data-line/data-line/test.txt\")\n",
    "    validation=save_txt(validation_df, f\"C:/Users/ADMIN/Documents/data_line/data-line/data-line/validation.txt\")"
   ]
  },
  {
   "cell_type": "code",
   "execution_count": 3,
   "id": "7e20955d",
   "metadata": {},
   "outputs": [],
   "source": [
    "split_dataset()"
   ]
  }
 ],
 "metadata": {
  "kernelspec": {
   "display_name": "Python 3",
   "language": "python",
   "name": "python3"
  },
  "language_info": {
   "codemirror_mode": {
    "name": "ipython",
    "version": 3
   },
   "file_extension": ".py",
   "mimetype": "text/x-python",
   "name": "python",
   "nbconvert_exporter": "python",
   "pygments_lexer": "ipython3",
   "version": "3.11.9"
  }
 },
 "nbformat": 4,
 "nbformat_minor": 5
}
