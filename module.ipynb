{
  "cells": [
    {
      "cell_type": "code",
      "execution_count": 1,
      "metadata": {
        "id": "1SMZD0wUxMYS"
      },
      "outputs": [],
      "source": [
        "import os\n",
        "import cv2\n",
        "import numpy as np\n",
        "import pandas as pd\n",
        "from PIL import Image\n",
        "import torchvision.transforms as transforms\n",
        "import warnings\n",
        "warnings.filterwarnings(\"ignore\")\n",
        "import torch\n",
        "import torch.nn as nn\n",
        "import torchvision.models as models\n",
        "from torch.nn import TransformerDecoder, TransformerDecoderLayer\n",
        "import torch.optim as optim\n",
        "import tensorflow as tf\n",
        "import matplotlib.pyplot as plt\n",
        "from torch.utils.data import Dataset, DataLoader\n",
        "from sklearn.model_selection import train_test_split"
      ]
    },
    {
      "cell_type": "code",
      "execution_count": 2,
      "metadata": {
        "id": "ReZNz-IvxMYU"
      },
      "outputs": [],
      "source": [
        "# Lấy data từ drive\n",
        "IMG_SIZE = (850, 150)\n",
        "DATASET_PATH = \"C:/Users/ADMIN/Documents/data_line/data-line/data-line/data\"\n",
        "label_Path = \"C:/Users/ADMIN/Documents/data_line/data-line/data-line/label.txt\""
      ]
    },
    {
      "cell_type": "code",
      "execution_count": 3,
      "metadata": {
        "id": "EQSYQlwqxMYY"
      },
      "outputs": [],
      "source": [
        "import math\n",
        "\n",
        "class PositionEmbedding(nn.Module):\n",
        "    def __init__(self, embed_dim, max_len=5000):\n",
        "        super(PositionEmbedding, self).__init__()\n",
        "\n",
        "        # Tạo một tensor chứa thông tin về vị trí của các phần tử trong chuỗi\n",
        "        pe = torch.zeros(max_len, embed_dim)\n",
        "        position = torch.arange(0, max_len).unsqueeze(1).float()\n",
        "        div_term = torch.exp(torch.arange(0, embed_dim, 2).float() * -(math.log(10000.0) / embed_dim))\n",
        "        pe[:, 0::2] = torch.sin(position * div_term)  # Áp dụng sin với chỉ số chẵn\n",
        "        pe[:, 1::2] = torch.cos(position * div_term)  # Áp dụng cos với chỉ số lẻ\n",
        "        pe = pe.unsqueeze(0)  # Thêm một chiều batch_size\n",
        "        self.register_buffer('pe', pe)\n",
        "\n",
        "    def forward(self, x):\n",
        "        # x: (seq_len, batch_size, embed_dim)\n",
        "        seq_len = x.size(0)\n",
        "        return x + self.pe[:, :seq_len]\n",
        "\n",
        "class CNNFeatureExtractor(nn.Module):\n",
        "    def __init__(self, embed_dim=256, in_channels=3):\n",
        "        super(CNNFeatureExtractor, self).__init__()\n",
        "\n",
        "        # Xây dựng CNN backbone (có thể dùng ResNet hoặc CNN tùy chỉnh)\n",
        "        self.cnn = nn.Sequential(\n",
        "            # Layer 1: Conv + BatchNorm + ReLU\n",
        "            nn.Conv2d(in_channels, 64, kernel_size=3, stride=1, padding=1),\n",
        "            nn.BatchNorm2d(64),\n",
        "            nn.ReLU(inplace=True),\n",
        "            nn.MaxPool2d(kernel_size=2, stride=2),  # Giảm kích thước: (64, 64, 16)\n",
        "\n",
        "            # Layer 2: Conv + BatchNorm + ReLU\n",
        "            nn.Conv2d(64, 128, kernel_size=3, stride=1, padding=1),\n",
        "            nn.BatchNorm2d(128),\n",
        "            nn.ReLU(inplace=True),\n",
        "            nn.MaxPool2d(kernel_size=2, stride=2),  # Giảm kích thước: (128, 32, 8)\n",
        "\n",
        "            # Layer 3: Conv + BatchNorm + ReLU\n",
        "            nn.Conv2d(128, 256, kernel_size=3, stride=1, padding=1),\n",
        "            nn.BatchNorm2d(256),\n",
        "            nn.ReLU(inplace=True),\n",
        "            nn.MaxPool2d(kernel_size=(2, 1), stride=(2, 1)),  # Giảm chiều cao: (256, 16, 8)\n",
        "\n",
        "            # Layer 4: Conv cuối để trích xuất đặc trưng\n",
        "            nn.Conv2d(256, 512, kernel_size=3, stride=1, padding=1),\n",
        "            nn.BatchNorm2d(512),\n",
        "            nn.ReLU(inplace=True),\n",
        "        )\n",
        "\n",
        "        # Fully connected layer để chuyển đổi sang embed_dim\n",
        "        self.fc = nn.Linear(512, embed_dim)\n",
        "\n",
        "        # Thêm Position Embedding vào mô hình\n",
        "        self.position_embedding = PositionEmbedding(embed_dim)\n",
        "\n",
        "    def forward(self, x):\n",
        "        # Trích xuất đặc trưng bằng CNN\n",
        "        features = self.cnn(x)  # (batch_size, channels, height, width)\n",
        "        # Ví dụ: (batch_size, 512, 16, 8)\n",
        "\n",
        "        # Chuyển đổi để phù hợp với Transformer\n",
        "        batch_size, channels, height, width = features.size()\n",
        "        features = features.permute(0, 3, 1, 2)  # (batch_size, width, channels, height)\n",
        "        features = features.reshape(batch_size, width, channels * height)  # (batch_size, width, channels * height)\n",
        "\n",
        "        # Áp dụng fully connected layer để giảm chiều về embed_dim\n",
        "        features = self.fc(features)  # (batch_size, width, embed_dim)\n",
        "\n",
        "        # Chuyển thành định dạng Transformer cần: (sequence_length, batch_size, embed_dim)\n",
        "        features = features.permute(1, 0, 2)  # (width, batch_size, embed_dim)\n",
        "\n",
        "        # Áp dụng Position Embedding\n",
        "        features = self.position_embedding(features)\n",
        "\n",
        "        return features\n"
      ]
    },
    {
      "cell_type": "code",
      "execution_count": 4,
      "metadata": {
        "id": "ajKmpX-gxMYY"
      },
      "outputs": [],
      "source": [
        "import torch.nn.functional as F\n",
        "import math\n",
        "\n",
        "class MultiHeadAttention(nn.Module):\n",
        "    def __init__(self, d_model, num_heads):\n",
        "        super().__init__()\n",
        "        self.d_model = d_model\n",
        "        self.num_heads = num_heads\n",
        "        self.d_head = d_model // num_heads\n",
        "\n",
        "        assert d_model % num_heads == 0, \"d_model phải chia hết cho num_heads\"\n",
        "\n",
        "        # Trainable projection layers\n",
        "        self.Wq = nn.Linear(d_model, d_model)\n",
        "        self.Wk = nn.Linear(d_model, d_model)\n",
        "        self.Wv = nn.Linear(d_model, d_model)\n",
        "\n",
        "        # Output linear layer\n",
        "        self.dense = nn.Linear(d_model, d_model)\n",
        "\n",
        "    def attention(self, query, key, value, mask=None):\n",
        "        # query, key, value shape: (batch, num_heads, seq_len, d_head)\n",
        "        scores = torch.matmul(query, key.transpose(-2, -1)) / math.sqrt(key.size(-1))  # scaled dot product\n",
        "\n",
        "        if mask is not None:\n",
        "            scores = scores.masked_fill(mask == 0, float('-inf'))\n",
        "\n",
        "        weights = F.softmax(scores, dim=-1)\n",
        "        output = torch.matmul(weights, value)\n",
        "        return output, weights\n",
        "\n",
        "    def split_heads(self, x):\n",
        "        # x: (batch_size, seq_len, d_model)\n",
        "        batch_size, seq_len, _ = x.size()\n",
        "        x = x.view(batch_size, seq_len, self.num_heads, self.d_head)\n",
        "        return x.transpose(1, 2)  # (batch_size, num_heads, seq_len, d_head)\n",
        "\n",
        "    def merge_heads(self, x):\n",
        "        # x: (batch_size, num_heads, seq_len, d_head)\n",
        "        batch_size, num_heads, seq_len, d_head = x.size()\n",
        "        x = x.transpose(1, 2)  # (batch_size, seq_len, num_heads, d_head)\n",
        "        return x.reshape(batch_size, seq_len, num_heads * d_head)  # (batch_size, seq_len, d_model)\n",
        "\n",
        "    def forward(self, q, k, v, mask=None):\n",
        "        Q = self.Wq(q)\n",
        "        K = self.Wk(k)\n",
        "        V = self.Wv(v)\n",
        "\n",
        "        Q = self.split_heads(Q)\n",
        "        K = self.split_heads(K)\n",
        "        V = self.split_heads(V)\n",
        "\n",
        "        out, attn_weights = self.attention(Q, K, V, mask)\n",
        "        out = self.merge_heads(out)\n",
        "        out = self.dense(out)\n",
        "        return out, attn_weights\n"
      ]
    },
    {
      "cell_type": "code",
      "execution_count": 5,
      "metadata": {
        "id": "ZRZjCrn0xMYZ"
      },
      "outputs": [],
      "source": [
        "class EncoderBlock(nn.Module):\n",
        "    def __init__(self, d_model, num_heads, hidden_dim, dropout_rate=0.1):\n",
        "        super().__init__()\n",
        "        self.mha = nn.MultiheadAttention(d_model, num_heads, dropout=dropout_rate)\n",
        "        self.ffn = nn.Sequential(\n",
        "            nn.Linear(d_model, hidden_dim),\n",
        "            nn.ReLU(),\n",
        "            nn.Linear(hidden_dim, d_model)\n",
        "        )\n",
        "        self.norm1 = nn.LayerNorm(d_model)\n",
        "        self.norm2 = nn.LayerNorm(d_model)\n",
        "        self.dropout = nn.Dropout(dropout_rate)\n",
        "\n",
        "    def forward(self, x, mask=None):\n",
        "        attn_output, attn_weights = self.mha(x, x, x, attn_mask=mask)\n",
        "        x = self.norm1(x + self.dropout(attn_output))\n",
        "        ffn_output = self.ffn(x)\n",
        "        x = self.norm2(x + self.dropout(ffn_output))\n",
        "        return x, attn_weights"
      ]
    },
    {
      "cell_type": "code",
      "execution_count": 6,
      "metadata": {
        "id": "MUhmf_MAxMYZ"
      },
      "outputs": [],
      "source": [
        "class Encoder(nn.Module):\n",
        "    def __init__(self, num_blocks, d_model, num_heads, hidden_dim, dropout_rate=0.1):\n",
        "        super().__init__()\n",
        "        self.blocks = nn.ModuleList([\n",
        "            EncoderBlock(d_model, num_heads, hidden_dim, dropout_rate)\n",
        "            for _ in range(num_blocks)\n",
        "        ])\n",
        "        self.dropout = nn.Dropout(dropout_rate)\n",
        "\n",
        "    def forward(self, features, mask=None):\n",
        "        x = self.dropout(features)  # Nhận đặc trưng từ CNN\n",
        "        for block in self.blocks:\n",
        "            x, weights = block(x, mask)\n",
        "        return x, weights"
      ]
    },
    {
      "cell_type": "code",
      "execution_count": 7,
      "metadata": {
        "id": "WJ6Y7dbWxMYZ"
      },
      "outputs": [],
      "source": [
        "class DecoderBlock(nn.Module):\n",
        "    def __init__(self, d_model, num_heads, hidden_dim, dropout_rate=0.1):\n",
        "        super().__init__()\n",
        "        self.mha1 = nn.MultiheadAttention(d_model, num_heads, dropout=dropout_rate)\n",
        "        self.mha2 = nn.MultiheadAttention(d_model, num_heads, dropout=dropout_rate)\n",
        "        self.ffn = nn.Sequential(\n",
        "            nn.Linear(d_model, hidden_dim),\n",
        "            nn.ReLU(),\n",
        "            nn.Linear(hidden_dim, d_model)\n",
        "        )\n",
        "        self.norm1 = nn.LayerNorm(d_model)\n",
        "        self.norm2 = nn.LayerNorm(d_model)\n",
        "        self.norm3 = nn.LayerNorm(d_model)\n",
        "        self.dropout = nn.Dropout(dropout_rate)\n",
        "\n",
        "    def forward(self, encoder_output, target, decoder_mask=None, memory_mask=None):\n",
        "        attn1_output, attn1_weights = self.mha1(target, target, target, attn_mask=decoder_mask)\n",
        "        x = self.norm1(target + self.dropout(attn1_output))\n",
        "        attn2_output, attn2_weights = self.mha2(x, encoder_output, encoder_output, attn_mask=memory_mask)\n",
        "        x = self.norm2(x + self.dropout(attn2_output))\n",
        "        ffn_output = self.ffn(x)\n",
        "        x = self.norm3(x + self.dropout(ffn_output))\n",
        "        return x, attn2_weights"
      ]
    },
    {
      "cell_type": "code",
      "execution_count": 8,
      "metadata": {
        "id": "NJXzZ8E5xMYZ"
      },
      "outputs": [],
      "source": [
        "class Decoder(nn.Module):\n",
        "    def __init__(self, num_blocks, d_model, num_heads, hidden_dim, target_vocab_size, max_seq_len, dropout_rate=0.1):\n",
        "        super().__init__()\n",
        "        self.embedding = nn.Embedding(target_vocab_size, d_model)\n",
        "        self.pos_encoding = nn.Parameter(torch.zeros(1, max_seq_len, d_model))\n",
        "        self.blocks = nn.ModuleList([\n",
        "            DecoderBlock(d_model, num_heads, hidden_dim, dropout_rate)\n",
        "            for _ in range(num_blocks)\n",
        "        ])\n",
        "        self.dropout = nn.Dropout(dropout_rate)\n",
        "\n",
        "    def forward(self, encoder_output, target, decoder_mask=None, memory_mask=None):\n",
        "        tgt_embed = self.embedding(target) + self.pos_encoding[:, :target.size(0), :]\n",
        "        x = self.dropout(tgt_embed)\n",
        "        for block in self.blocks:\n",
        "            x, weights = block(encoder_output, x, decoder_mask, memory_mask)\n",
        "        return x, weights"
      ]
    },
    {
      "cell_type": "code",
      "execution_count": 9,
      "metadata": {
        "id": "t791B5t8xMYZ"
      },
      "outputs": [],
      "source": [
        "class TransformerOCR(nn.Module):\n",
        "    def __init__(self, vocab_size, d_model=256, nhead=8, num_encoder_layers=6, num_decoder_layers=6, dim_feedforward=1024):\n",
        "        super(TransformerOCR, self).__init__()\n",
        "        self.embedding = nn.Embedding(vocab_size, d_model)\n",
        "\n",
        "        self.transformer = nn.Transformer(\n",
        "            d_model=d_model,\n",
        "            nhead=nhead,\n",
        "            num_encoder_layers=num_encoder_layers,\n",
        "            num_decoder_layers=num_decoder_layers,\n",
        "            dim_feedforward=dim_feedforward,\n",
        "            batch_first=True\n",
        "        )\n",
        "\n",
        "        self.fc_out = nn.Linear(d_model, vocab_size)\n",
        "\n",
        "    def forward(self, src, tgt):\n",
        "        src = self.embedding(src)\n",
        "        tgt = self.embedding(tgt)\n",
        "\n",
        "        output = self.transformer(src, tgt)\n",
        "        output = self.fc_out(output)\n",
        "\n",
        "        return output"
      ]
    },
    {
      "cell_type": "code",
      "execution_count": 10,
      "metadata": {
        "id": "p941KeP4xMYZ"
      },
      "outputs": [],
      "source": [
        "special_tokens = [\"<PAD>\", \"<SOS>\", \"<EOS>\"]\n",
        "alphabet = \"aAàÀảẢãÃáÁạẠăĂằẰẳẲẵẴắẮặẶâÂầẦẩẨẫẪấẤậẬbBcCdDđĐeEèÈẻẺẽẼéÉẹẸêÊềỀểỂễỄếẾệỆfFgGhHiIìÌỉỈĩĨíÍịỊjJkKlLmMnNoOòÒỏỎõÕóÓọỌôÔồỒổỔỗỖốỐộỘơƠờỜởỞỡỠớỚợỢpPqQrRsStTuUùÙủỦũŨúÚụỤưƯừỪửỬữỮứỨựỰvVwWxXyYỳỲỷỶỹỸýÝỵỴzZ0123456789!#$%&\\'()*+,-./:;<=>?@[\\\\]^_`{|}~ \"\n",
        "characters = special_tokens + list(alphabet)\n",
        "vocab = {char: idx for idx, char in enumerate(characters)}\n",
        "vocab_size = len(vocab)"
      ]
    },
    {
      "cell_type": "code",
      "execution_count": 11,
      "metadata": {
        "id": "h-7xDHgzxMYa"
      },
      "outputs": [],
      "source": [
        "class OCRDataset(Dataset):\n",
        "    def __init__(self, image_dir, label_file, transform=None):\n",
        "        self.image_dir = image_dir\n",
        "        self.labels = self.load_labels(label_file)\n",
        "        self.transform = transform\n",
        "\n",
        "    def load_labels(self, label_file):\n",
        "        labels = []\n",
        "        with open(label_file, \"r\", encoding=\"utf-8\") as f:\n",
        "            for line in f.readlines():\n",
        "                image_name, label = line.strip().split(\" \", 1)\n",
        "                image_name = os.path.basename(image_name)\n",
        "                labels.append((image_name, label))\n",
        "        return labels\n",
        "\n",
        "    def encode_label(self, label):\n",
        "        return [vocab[\"<SOS>\"]] + [vocab[c] for c in label if c in vocab] + [vocab[\"<EOS>\"]]\n",
        "\n",
        "    def __len__(self):\n",
        "        return len(self.labels)\n",
        "\n",
        "    def __getitem__(self, idx):\n",
        "        image_name, label = self.labels[idx]\n",
        "        image_path = os.path.join(self.image_dir, image_name)\n",
        "        image = cv2.imread(image_path, cv2.IMREAD_GRAYSCALE)\n",
        "        if image is None: #bỏ qua ảnh bị lỗi\n",
        "          print(f\"BỎ QUA ảnh bị lỗi: {image_path}\")\n",
        "          return self.__getitem__((idx + 1) % len(self.labels))\n",
        "        image = cv2.resize(image, (128, 32))\n",
        "        if self.transform:\n",
        "            image = self.transform(image)\n",
        "        label_encoded = self.encode_label(label)\n",
        "        return image, torch.tensor(label_encoded, dtype=torch.long)"
      ]
    },
    {
      "cell_type": "code",
      "execution_count": 12,
      "metadata": {
        "id": "huqMdWPHxMYa"
      },
      "outputs": [],
      "source": [
        "def collate_fn(batch):\n",
        "    images, labels = zip(*batch)\n",
        "    max_len = max(len(label) for label in labels)\n",
        "    padded_labels = [\n",
        "        torch.cat([label, torch.full((max_len - len(label),), vocab[\"<PAD>\"], dtype=torch.long)] )\n",
        "        for label in labels\n",
        "    ]\n",
        "    return torch.stack(images), torch.stack(padded_labels)\n"
      ]
    },
    {
      "cell_type": "code",
      "execution_count": 13,
      "metadata": {
        "id": "lC2boCbvg9Vn"
      },
      "outputs": [],
      "source": [
        "IMG_DIR = \"C:/Users/ADMIN/Documents/data_line/data-line/data-line/data\"\n",
        "validation_split = \"C:/Users/ADMIN/Documents/data_line/data-line/data-line/validation.txt\"\n",
        "train=\"C:/Users/ADMIN/Documents/data_line/data-line/data-line/train.txt\"\n",
        "test=\"C:/Users/ADMIN/Documents/data_line/data-line/data-line/test.txt\""
      ]
    },
    {
      "cell_type": "code",
      "execution_count": 14,
      "metadata": {
        "id": "jnyAo4vLxMYa"
      },
      "outputs": [],
      "source": [
        "BATCH_SIZE = 32\n",
        "EPOCHS = 25\n",
        "device = \"cuda\" if torch.cuda.is_available() else exit(\"CUDA is required!\")\n",
        "\n",
        "transform = transforms.Compose([\n",
        "    transforms.ToTensor(),\n",
        "    transforms.Normalize((0.5,), (0.5,))\n",
        "])"
      ]
    },
    {
      "cell_type": "code",
      "execution_count": 15,
      "metadata": {
        "id": "xlMoKgibxMYa"
      },
      "outputs": [],
      "source": [
        "# Tạo từ điển nghịch đảo để ánh xạ từ index → ký tự\n",
        "inv_vocab = {v: k for k, v in vocab.items()}\n",
        "\n",
        "# Hàm chuyển tensor (chuỗi index) thành chuỗi văn bản\n",
        "def decode(tensor):\n",
        "    tokens = [inv_vocab[idx.item()] for idx in tensor if idx.item() not in [vocab[\"<PAD>\"], vocab[\"<SOS>\"], vocab[\"<EOS>\"]]]\n",
        "    return ''.join(tokens)"
      ]
    },
    {
      "cell_type": "code",
      "execution_count": null,
      "metadata": {
        "id": "rGniS-orxMYa"
      },
      "outputs": [],
      "source": [
        "from jiwer import cer\n",
        "import matplotlib.pyplot as plt\n",
        "\n",
        "def evaluate_model(label_file, model, model_name=\"Model\"):\n",
        "    val_dataset = OCRDataset(IMG_DIR, label_file, transform)\n",
        "    val_loader = DataLoader(val_dataset, batch_size=1, shuffle=False, collate_fn=collate_fn)\n",
        "\n",
        "    #load model\n",
        "    #model = TransformerOCR(vocab_size).to(device)\n",
        "    #model.load_state_dict(torch.load(model_path)) # type: ignore\n",
        "    model.eval()\n",
        "    criterion = nn.CrossEntropyLoss(ignore_index=vocab[\"<PAD>\"])\n",
        "    val_loss = 0\n",
        "    cer_scores = []\n",
        "\n",
        "    with torch.no_grad():\n",
        "        for images, labels in val_loader:\n",
        "            images, labels = images.to(device), labels.to(device)\n",
        "            tgt_input = labels[:, :-1].long()\n",
        "            tgt_output = labels[:, 1:].long()\n",
        "\n",
        "            output = model(tgt_input, tgt_input)\n",
        "            loss = criterion(output.reshape(-1, vocab_size), tgt_output.reshape(-1))\n",
        "            val_loss += loss.item()\n",
        "\n",
        "            pred_indices = output.argmax(dim=-1)\n",
        "            for pred_seq, true_seq in zip(pred_indices, tgt_output):\n",
        "                pred_text = decode(pred_seq)\n",
        "                true_text = decode(true_seq)\n",
        "                cer_scores.append(cer(true_text, pred_text))\n",
        "\n",
        "    avg_loss = val_loss / len(val_loader)\n",
        "    avg_cer = sum(cer_scores) / len(cer_scores)\n",
        "    print(f\"\\n[{model_name}] Validation Loss: {avg_loss:.4f}, CER: {avg_cer:.4f}\")\n",
        "\n",
        "    return avg_loss, avg_cer"
      ]
    },
    {
      "cell_type": "code",
      "execution_count": 17,
      "metadata": {
        "id": "G-61DBCvxMYa"
      },
      "outputs": [],
      "source": [
        "def train_model(label_file, model_name):\n",
        "    dataset = OCRDataset(IMG_DIR, label_file, transform)\n",
        "    dataloader = DataLoader(dataset, batch_size=BATCH_SIZE, shuffle=True, collate_fn=collate_fn)\n",
        "\n",
        "    model = TransformerOCR(vocab_size).to(device)\n",
        "    criterion = nn.CrossEntropyLoss(ignore_index=vocab[\"<PAD>\"])\n",
        "    optimizer = optim.Adam(model.parameters(), lr=1e-4)\n",
        "\n",
        "    train_losses = []\n",
        "    val_losses = []\n",
        "\n",
        "    for epoch in range(EPOCHS):\n",
        "        model.train()\n",
        "        total_loss = 0\n",
        "\n",
        "        for images, labels in dataloader:\n",
        "            images, labels = images.to(device), labels.to(device)\n",
        "            tgt_input = labels[:, :-1].long()\n",
        "            tgt_output = labels[:, 1:].long()\n",
        "            optimizer.zero_grad()\n",
        "            output = model(tgt_input, tgt_input)\n",
        "            loss = criterion(output.reshape(-1, vocab_size), tgt_output.reshape(-1))\n",
        "            loss.backward()\n",
        "            optimizer.step()\n",
        "            total_loss += loss.item()\n",
        "\n",
        "        avg_train_loss = total_loss / len(dataloader)\n",
        "        train_losses.append(avg_train_loss)\n",
        "        print(f\"{model_name} - Epoch [{epoch + 1}/{EPOCHS}], Train Loss: {avg_train_loss:.4f}\")\n",
        "\n",
        "        # Gọi evaluate_model (đưa model thay vì model_path)\n",
        "        val_loss, val_cer = evaluate_model(validation_split, model, model_name=model_name)\n",
        "        val_losses.append(val_loss)\n",
        "\n",
        "        torch.save(model.state_dict(), f\"{model_name}_epoch_{epoch + 1}.pth\")\n",
        "\n",
        "    return train_losses, val_losses\n"
      ]
    },
    {
      "cell_type": "code",
      "execution_count": 18,
      "metadata": {
        "colab": {
          "base_uri": "https://localhost:8080/"
        },
        "id": "wsr7WIdQxMYb",
        "outputId": "a3cd7d44-4400-4f0a-c8d5-a101d6af3e37"
      },
      "outputs": [
        {
          "name": "stdout",
          "output_type": "stream",
          "text": [
            "Model_1 - Epoch [1/25], Train Loss: 4.0379\n",
            "\n",
            "[Model_1] Validation Loss: 3.5904, CER: 0.7212\n",
            "Model_1 - Epoch [2/25], Train Loss: 3.1480\n",
            "\n",
            "[Model_1] Validation Loss: 2.9073, CER: 0.6616\n",
            "Model_1 - Epoch [3/25], Train Loss: 2.7113\n",
            "\n",
            "[Model_1] Validation Loss: 2.6394, CER: 0.6310\n",
            "Model_1 - Epoch [4/25], Train Loss: 2.4871\n",
            "\n",
            "[Model_1] Validation Loss: 2.5043, CER: 0.6241\n",
            "Model_1 - Epoch [5/25], Train Loss: 2.3482\n",
            "\n",
            "[Model_1] Validation Loss: 2.3936, CER: 0.6048\n",
            "Model_1 - Epoch [6/25], Train Loss: 2.2408\n",
            "\n",
            "[Model_1] Validation Loss: 2.3045, CER: 0.5965\n",
            "Model_1 - Epoch [7/25], Train Loss: 2.1488\n",
            "\n",
            "[Model_1] Validation Loss: 2.2319, CER: 0.5855\n",
            "Model_1 - Epoch [8/25], Train Loss: 2.0766\n",
            "\n",
            "[Model_1] Validation Loss: 2.1928, CER: 0.5831\n",
            "Model_1 - Epoch [9/25], Train Loss: 2.0143\n",
            "\n",
            "[Model_1] Validation Loss: 2.1536, CER: 0.5795\n",
            "Model_1 - Epoch [10/25], Train Loss: 1.9507\n",
            "\n",
            "[Model_1] Validation Loss: 2.0850, CER: 0.5709\n",
            "Model_1 - Epoch [11/25], Train Loss: 1.8996\n",
            "\n",
            "[Model_1] Validation Loss: 2.0507, CER: 0.5654\n",
            "Model_1 - Epoch [12/25], Train Loss: 1.8560\n",
            "\n",
            "[Model_1] Validation Loss: 2.0300, CER: 0.5670\n",
            "Model_1 - Epoch [13/25], Train Loss: 1.8111\n",
            "\n",
            "[Model_1] Validation Loss: 2.0187, CER: 0.5636\n",
            "Model_1 - Epoch [14/25], Train Loss: 1.7695\n",
            "\n",
            "[Model_1] Validation Loss: 1.9811, CER: 0.5563\n",
            "Model_1 - Epoch [15/25], Train Loss: 1.7342\n",
            "\n",
            "[Model_1] Validation Loss: 1.9400, CER: 0.5511\n",
            "Model_1 - Epoch [16/25], Train Loss: 1.6948\n",
            "\n",
            "[Model_1] Validation Loss: 1.9599, CER: 0.5561\n",
            "Model_1 - Epoch [17/25], Train Loss: 1.6633\n",
            "\n",
            "[Model_1] Validation Loss: 1.9507, CER: 0.5534\n",
            "Model_1 - Epoch [18/25], Train Loss: 1.6292\n",
            "\n",
            "[Model_1] Validation Loss: 1.9223, CER: 0.5506\n",
            "Model_1 - Epoch [19/25], Train Loss: 1.5933\n",
            "\n",
            "[Model_1] Validation Loss: 1.9116, CER: 0.5531\n",
            "Model_1 - Epoch [20/25], Train Loss: 1.5669\n",
            "\n",
            "[Model_1] Validation Loss: 1.9065, CER: 0.5551\n",
            "Model_1 - Epoch [21/25], Train Loss: 1.5433\n",
            "\n",
            "[Model_1] Validation Loss: 1.8605, CER: 0.5457\n",
            "Model_1 - Epoch [22/25], Train Loss: 1.5095\n",
            "\n",
            "[Model_1] Validation Loss: 1.8783, CER: 0.5428\n",
            "Model_1 - Epoch [23/25], Train Loss: 1.4840\n",
            "\n",
            "[Model_1] Validation Loss: 1.8572, CER: 0.5444\n",
            "Model_1 - Epoch [24/25], Train Loss: 1.4554\n",
            "\n",
            "[Model_1] Validation Loss: 1.8660, CER: 0.5431\n",
            "Model_1 - Epoch [25/25], Train Loss: 1.4305\n",
            "\n",
            "[Model_1] Validation Loss: 1.8582, CER: 0.5411\n"
          ]
        }
      ],
      "source": [
        "train_losses, val_losses = train_model(train, \"Model_1\")"
      ]
    },
    {
      "cell_type": "code",
      "execution_count": 22,
      "metadata": {
        "colab": {
          "base_uri": "https://localhost:8080/"
        },
        "id": "oH6MES1PxMYb",
        "outputId": "78f7bf1d-6ea6-4dd7-ec85-8b070a69a675"
      },
      "outputs": [
        {
          "name": "stdout",
          "output_type": "stream",
          "text": [
            "\n",
            "[Model_1] Validation Loss: 1.8582, CER: 0.5411\n"
          ]
        }
      ],
      "source": [
        "model_path = \"Model_1_epoch_25.pth\"\n",
        "val_loss, val_cer = evaluate_model(validation_split, model_path, model_name=\"Model_1\")"
      ]
    },
    {
      "cell_type": "code",
      "execution_count": 19,
      "metadata": {
        "colab": {
          "base_uri": "https://localhost:8080/",
          "height": 472
        },
        "id": "4AxS7n-pxMYb",
        "outputId": "c0feaf6d-9455-4303-9571-5b9fd40aab65"
      },
      "outputs": [
        {
          "data": {
            "image/png": "[encoded data removed]",
            "text/plain": [
              "<Figure size 640x480 with 1 Axes>"
            ]
          },
          "metadata": {},
          "output_type": "display_data"
        }
      ],
      "source": [
        "plt.plot(train_losses, label='Train Loss')\n",
        "plt.plot(val_losses, label='Validation Loss')\n",
        "plt.title('Train vs Validation Loss')\n",
        "plt.xlabel('Epoch')\n",
        "plt.ylabel('Loss')\n",
        "plt.legend()\n",
        "plt.grid(True)\n",
        "plt.show()\n"
      ]
    }
  ],
  "metadata": {
    "colab": {
      "provenance": []
    },
    "kernelspec": {
      "display_name": "Python 3",
      "language": "python",
      "name": "python3"
    },
    "language_info": {
      "codemirror_mode": {
        "name": "ipython",
        "version": 3
      },
      "file_extension": ".py",
      "mimetype": "text/x-python",
      "name": "python",
      "nbconvert_exporter": "python",
      "pygments_lexer": "ipython3",
      "version": "3.11.9"
    }
  },
  "nbformat": 4,
  "nbformat_minor": 0
}
